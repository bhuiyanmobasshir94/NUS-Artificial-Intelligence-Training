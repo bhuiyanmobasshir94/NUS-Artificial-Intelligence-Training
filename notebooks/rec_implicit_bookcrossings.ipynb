{
 "cells": [
  {
   "cell_type": "code",
   "execution_count": 27,
   "metadata": {},
   "outputs": [],
   "source": [
    "# Installation\n",
    "\n",
    "# !pip install pandas\n",
    "# !pip install numpy\n",
    "# !pip install scipy\n",
    "# !pip install implicit"
   ]
  },
  {
   "cell_type": "code",
   "execution_count": 1,
   "metadata": {},
   "outputs": [],
   "source": [
    "# Imports\n",
    "import pandas as pd\n",
    "import numpy as np\n",
    "import scipy.sparse as sparse\n",
    "import implicit\n",
    "import os\n",
    "import random  "
   ]
  },
  {
   "cell_type": "code",
   "execution_count": 2,
   "metadata": {},
   "outputs": [],
   "source": [
    "# Environment and global variables\n",
    "pd.set_option('display.max_columns',10)\n",
    "os.environ['MKL_NUM_THREADS'] = '1'\n",
    "os.environ['OPENBLAS_NUM_THREADS'] = '1'"
   ]
  },
  {
   "cell_type": "code",
   "execution_count": 3,
   "metadata": {},
   "outputs": [],
   "source": [
    "# Utility functions\n",
    "\n",
    "# map the user and item names to contiguous integers and also return the maps\n",
    "def maptrans(trans):\n",
    "    uniqueusers = np.sort(trans['user'].unique())\n",
    "    uniqueitems = np.sort(trans['item'].unique())\n",
    "    umap = dict(zip(uniqueusers,[i for i in range(len(uniqueusers))])) # this maps username -> index\n",
    "    imap = dict(zip(uniqueitems,[i for i in range(len(uniqueitems))])) # this maps itemname -> index\n",
    "    trans['user'] = trans.apply(lambda row: umap[row['user']], axis = 1) \n",
    "    trans['item'] = trans.apply(lambda row: imap[row['item']], axis = 1) \n",
    "    return (trans,umap,imap)\n",
    "\n",
    "#return list of similar items, use the item-properties matrix (Q) to do nearest neighbour using cosine similarity\n",
    "def findsimilaritems(item, item_vecs, n_similar=10):\n",
    "    #Calculate the item vector norms (the vector lengths)\n",
    "    item_norms = np.sqrt((item_vecs * item_vecs).sum(axis=1))\n",
    "    #Calculate the (cosine) similarity score: do dot product of selected content with every other content\n",
    "    #Note: cosine sim = A.B/(norm(A)*norm(B)), since B (item 450) is the same for every item A, we can ignore its norm in this calc\n",
    "    simscores = item_vecs.dot(item_vecs[item]) / item_norms\n",
    "    #Get the top 10 contents (do a sort)\n",
    "    top_idx = np.argpartition(simscores, -n_similar)[-n_similar:]\n",
    "    #Create a descending list of content-score tuples of most similar articles with this article.\n",
    "    similar = sorted(zip(top_idx, simscores[top_idx]/item_norms[item]), key=lambda x: -x[1])\n",
    "    return (similar)\n",
    "\n",
    "#return the top 10 recommendations chosen based on the person / content vectors \n",
    "#for contents never interacted with for any given person.\n",
    "def recommend(user, sparse_user_item, userprefs, itemprops, num_items=10):\n",
    "\n",
    "    # create a template vector, where unrated items = 1, rated items =0\n",
    "    existing_ratings = sparse_user_item[user,:].toarray() # Get existing ratings for target\n",
    "    existing_ratings = existing_ratings.reshape(-1) + 1  # Add 1 to everything, so items with no rating = 1\n",
    "    existing_ratings[existing_ratings > 1] = 0  # make items already rated = 0\n",
    "\n",
    "    # Get dot product of the target user preferences and all item properties ~ P[user]*transpose(Q)\n",
    "    predrats = userprefs[user,:].dot(itemprops.T)\n",
    "    \n",
    "    # Items already rated have their predictions multiplied by zero (ie eliminated)\n",
    "    predrats = predrats * existing_ratings \n",
    "\n",
    "    # Sort into descending order of predicted rating and select the topN item indexes\n",
    "    itemids = np.argsort(predrats)[::-1][:num_items]\n",
    "    \n",
    "    # Start empty list to store items and scores\n",
    "    recs = []\n",
    "    for item in itemids: recs.append((item, predrats[item]))\n",
    "    return recs\n",
    "\n",
    "def implicit_testusers(testset, userprefs, itemprops, debug=False):\n",
    "    errs = list([])\n",
    "    #tic = time.perf_counter()\n",
    "    for (indx,(uname,iname,rating)) in testset.iterrows():\n",
    "        if (debug): print('.', end = '')\n",
    "        err = abs(userprefs[uname,:].dot(itemprops[iname,:]) - rating)\n",
    "        errs.append(err)\n",
    "    #print(f\"\\ntime {time.perf_counter() - tic:0.4f} seconds\")  \n",
    "    return(errs)\n",
    "\n",
    "def ahead(arr,r=7,c=7):\n",
    "    with np.printoptions(threshold=np.inf):\n",
    "        print(arr[0:r,0:c])\n",
    "\n",
    "def sparsity(arr):\n",
    "    return np.isnan(arr).sum()/np.prod(arr.shape)\n",
    "   #1.0 - ( count_nonzero(arr) / float(arr.size) )"
   ]
  },
  {
   "cell_type": "code",
   "execution_count": 4,
   "metadata": {},
   "outputs": [],
   "source": [
    "path = '/home/mobasshir/recommendation_engine_lab/NUS-Artificial-Intelligence-Training/recommender/Datasets'\n",
    "os.chdir(path)"
   ]
  },
  {
   "cell_type": "code",
   "execution_count": 5,
   "metadata": {},
   "outputs": [
    {
     "name": "stdout",
     "output_type": "stream",
     "text": [
      "   User-ID        ISBN  Book-Rating\n",
      "0   276725  034545104X            0\n",
      "1   276726  0155061224            5\n",
      "2   276727  0446520802            0\n",
      "3   276729  052165615X            3\n",
      "4   276729  0521795028            6\n"
     ]
    }
   ],
   "source": [
    "trans = pd.read_csv('BookCrossings/BX-Book-Ratings.csv', sep=';', error_bad_lines=False, encoding=\"latin-1\")\n",
    "print(trans.head())\n",
    "trans.columns = ['user','isbn','rating']"
   ]
  },
  {
   "cell_type": "code",
   "execution_count": 6,
   "metadata": {},
   "outputs": [
    {
     "data": {
      "text/plain": [
       "0     716109\n",
       "8     103736\n",
       "10     78610\n",
       "7      76457\n",
       "9      67541\n",
       "5      50974\n",
       "6      36924\n",
       "4       8904\n",
       "3       5996\n",
       "2       2759\n",
       "1       1770\n",
       "Name: rating, dtype: int64"
      ]
     },
     "execution_count": 6,
     "metadata": {},
     "output_type": "execute_result"
    }
   ],
   "source": [
    "trans.rating.value_counts()"
   ]
  },
  {
   "cell_type": "code",
   "execution_count": 7,
   "metadata": {},
   "outputs": [],
   "source": [
    "# trans['rating'] = trans['rating'].apply(lambda x: 5 if x == 0 else x)"
   ]
  },
  {
   "cell_type": "code",
   "execution_count": 9,
   "metadata": {},
   "outputs": [
    {
     "name": "stdout",
     "output_type": "stream",
     "text": [
      "0           57190\n",
      "1           29751\n",
      "2          107394\n",
      "3          127255\n",
      "4          127289\n",
      "            ...  \n",
      "1149775    256878\n",
      "1149776    164863\n",
      "1149777    123713\n",
      "1149778    145627\n",
      "1149779    124714\n",
      "Name: item, Length: 1149780, dtype: int64\n"
     ]
    }
   ],
   "source": [
    "trans['item'] = trans.groupby('isbn').grouper.group_info[0]\n",
    "print(trans['item'])"
   ]
  },
  {
   "cell_type": "code",
   "execution_count": 13,
   "metadata": {},
   "outputs": [
    {
     "name": "stdout",
     "output_type": "stream",
     "text": [
      "           user    item        isbn  rating\n",
      "0             2   32070  0195153448       0\n",
      "1             7   56365   034542252       0\n",
      "2             8     231  0002005018       5\n",
      "3             8   10495  0060973129       0\n",
      "4             8   72060  0374157065       0\n",
      "...         ...     ...         ...     ...\n",
      "1149774  278854   95073  0425163393       7\n",
      "1149775  278854  123345  0515087122       0\n",
      "1149776  278854  135474  0553275739       6\n",
      "1149777  278854  139261  0553578596       0\n",
      "1149778  278854  139330  0553579606       8\n",
      "\n",
      "[1149779 rows x 4 columns]\n"
     ]
    }
   ],
   "source": [
    "trans = trans.drop_duplicates()\n",
    "trans = trans.groupby(['user', 'item', 'isbn']).sum().reset_index()\n",
    "print(trans)"
   ]
  },
  {
   "cell_type": "code",
   "execution_count": 14,
   "metadata": {},
   "outputs": [
    {
     "name": "stdout",
     "output_type": "stream",
     "text": [
      "           user    item        isbn  rating\n",
      "0             0   32070  0195153448       0\n",
      "1             1   56365   034542252       0\n",
      "2             2     231  0002005018       5\n",
      "3             2   10495  0060973129       0\n",
      "4             2   72060  0374157065       0\n",
      "...         ...     ...         ...     ...\n",
      "1149774  105282   95073  0425163393       7\n",
      "1149775  105282  123345  0515087122       0\n",
      "1149776  105282  135474  0553275739       6\n",
      "1149777  105282  139261  0553578596       0\n",
      "1149778  105282  139330  0553579606       8\n",
      "\n",
      "[1149779 rows x 4 columns]\n"
     ]
    }
   ],
   "source": [
    "trans,umap,imap = maptrans(trans)\n",
    "print(trans)"
   ]
  },
  {
   "cell_type": "code",
   "execution_count": 15,
   "metadata": {},
   "outputs": [],
   "source": [
    "sparse_item_user = sparse.csr_matrix((trans['rating'].astype(float), (trans['item'],trans['user'])))\n",
    "sparse_user_item = sparse.csr_matrix((trans['rating'].astype(float), (trans['user'],trans['item'])))"
   ]
  },
  {
   "cell_type": "code",
   "execution_count": 16,
   "metadata": {},
   "outputs": [],
   "source": [
    "model = implicit.als.AlternatingLeastSquares(factors=20, regularization=0.1, iterations=50)"
   ]
  },
  {
   "cell_type": "code",
   "execution_count": 17,
   "metadata": {},
   "outputs": [
    {
     "data": {
      "application/vnd.jupyter.widget-view+json": {
       "model_id": "c921b11d5bb747f8aaade9bc7c4a903e",
       "version_major": 2,
       "version_minor": 0
      },
      "text/plain": [
       "HBox(children=(HTML(value=''), FloatProgress(value=0.0, max=50.0), HTML(value='')))"
      ]
     },
     "metadata": {},
     "output_type": "display_data"
    },
    {
     "name": "stdout",
     "output_type": "stream",
     "text": [
      "\n"
     ]
    }
   ],
   "source": [
    "alpha = 15\n",
    "data = (sparse_item_user * alpha).astype('double')\n",
    "model.fit(data)"
   ]
  },
  {
   "cell_type": "code",
   "execution_count": 18,
   "metadata": {},
   "outputs": [
    {
     "name": "stdout",
     "output_type": "stream",
     "text": [
      "1.0000001 \t 0002005018 \n",
      "\n",
      "0.886799 \t 1552041778 \n",
      "\n",
      "0.886799 \t 074322678X \n",
      "\n",
      "0.8867989 \t 1567407781 \n",
      "\n",
      "0.8867846 \t 1575663937 \n",
      "\n",
      "0.88676167 \t 0887841740 \n",
      "\n",
      "0.82949364 \t 0385259875 \n",
      "\n",
      "0.82615316 \t 087113733X \n",
      "\n",
      "0.8188976 \t 0140098798 \n",
      "\n",
      "0.8173198 \t 0771086873 \n",
      "\n"
     ]
    }
   ],
   "source": [
    "item_id = 231\n",
    "similar = model.similar_items(item_id)\n",
    "for item, score in similar: \n",
    "    print(score,'\\t',trans.isbn.loc[trans.item == item].iloc[0], \"\\n\")"
   ]
  },
  {
   "cell_type": "code",
   "execution_count": 19,
   "metadata": {},
   "outputs": [
    {
     "name": "stdout",
     "output_type": "stream",
     "text": [
      "1.0000001 \t 0195153448 \n",
      "\n",
      "0.93911016 \t 0762705140 \n",
      "\n",
      "0.92823815 \t 0722176082 \n",
      "\n",
      "0.92634135 \t 0930764196 \n",
      "\n",
      "0.919283 \t 0394537009 \n",
      "\n",
      "0.91659886 \t 0142004006 \n",
      "\n",
      "0.9153051 \t 0879677856 \n",
      "\n",
      "0.91185397 \t 067123109X \n",
      "\n",
      "0.90892893 \t 0446936510 \n",
      "\n",
      "0.90599835 \t 0449144844 \n",
      "\n"
     ]
    }
   ],
   "source": [
    "item_id = 32070\n",
    "similar = model.similar_items(item_id)\n",
    "for item, score in similar: \n",
    "    print(score,'\\t',trans.isbn.loc[trans.item == item].iloc[0], \"\\n\")"
   ]
  },
  {
   "cell_type": "code",
   "execution_count": 22,
   "metadata": {},
   "outputs": [
    {
     "name": "stdout",
     "output_type": "stream",
     "text": [
      "0.24382 \t 0446608955 \n",
      "\n",
      "0.24227 \t 0446606812 \n",
      "\n",
      "0.22244 \t 0061009059 \n",
      "\n",
      "0.21570 \t 0446672211 \n",
      "\n",
      "0.20958 \t 0671041789 \n",
      "\n",
      "0.20503 \t 0440222656 \n",
      "\n",
      "0.19523 \t 0060502258 \n",
      "\n",
      "0.19079 \t 0439064864 \n",
      "\n",
      "0.18740 \t 0439136350 \n",
      "\n",
      "0.18476 \t 0345384466 \n",
      "\n"
     ]
    }
   ],
   "source": [
    "user_id = 8\n",
    "recommendations = model.recommend(user_id, sparse_user_item, filter_already_liked_items=True)\n",
    "for item, score in recommendations: \n",
    "    print(f'{score:0.5f}','\\t', trans.isbn.loc[trans.item == item].iloc[0], \"\\n\")"
   ]
  },
  {
   "cell_type": "code",
   "execution_count": 24,
   "metadata": {},
   "outputs": [
    {
     "name": "stdout",
     "output_type": "stream",
     "text": [
      "0.12164 \t 0440224764 \n",
      "\n",
      "0.11972 \t 0671727796 \n",
      "\n",
      "0.11807 \t 0440211727 \n",
      "\n",
      "0.11605 \t 0345391802 \n",
      "\n",
      "0.11503 \t 0440220602 \n",
      "\n",
      "0.11214 \t 0440213525 \n",
      "\n",
      "0.11200 \t 0743418174 \n",
      "\n",
      "0.10991 \t 0440234743 \n",
      "\n",
      "0.10834 \t 0312291639 \n",
      "\n",
      "0.10591 \t 044021145X \n",
      "\n"
     ]
    }
   ],
   "source": [
    "user_id = 26\n",
    "recommendations = model.recommend(user_id, sparse_user_item, filter_already_liked_items=True)\n",
    "for item, score in recommendations: \n",
    "    print(f'{score:0.5f}','\\t', trans.isbn.loc[trans.item == item].iloc[0], \"\\n\")"
   ]
  },
  {
   "cell_type": "code",
   "execution_count": 25,
   "metadata": {},
   "outputs": [
    {
     "name": "stdout",
     "output_type": "stream",
     "text": [
      "0.12164 \t 101237 \n",
      "\n",
      "0.11972 \t 159855 \n",
      "\n",
      "0.11807 \t 100580 \n",
      "\n",
      "0.11605 \t 55765 \n",
      "\n",
      "0.11503 \t 101013 \n",
      "\n",
      "0.11214 \t 100665 \n",
      "\n",
      "0.11200 \t 182111 \n",
      "\n",
      "0.10991 \t 101505 \n",
      "\n",
      "0.10834 \t 42390 \n",
      "\n",
      "0.10591 \t 100566 \n",
      "\n"
     ]
    }
   ],
   "source": [
    "item = 26\n",
    "recommendations = model.recommend(item, sparse_item_user, filter_already_liked_items=True)\n",
    "for user, score in recommendations: \n",
    "    print(f'{score:0.5f}','\\t', user, \"\\n\")"
   ]
  },
  {
   "cell_type": "code",
   "execution_count": null,
   "metadata": {},
   "outputs": [],
   "source": []
  }
 ],
 "metadata": {
  "kernelspec": {
   "display_name": "Python 3",
   "language": "python",
   "name": "python3"
  },
  "language_info": {
   "codemirror_mode": {
    "name": "ipython",
    "version": 3
   },
   "file_extension": ".py",
   "mimetype": "text/x-python",
   "name": "python",
   "nbconvert_exporter": "python",
   "pygments_lexer": "ipython3",
   "version": "3.8.5"
  }
 },
 "nbformat": 4,
 "nbformat_minor": 4
}
